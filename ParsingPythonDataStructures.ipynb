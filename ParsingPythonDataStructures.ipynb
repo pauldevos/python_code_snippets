{
 "cells": [
  {
   "cell_type": "markdown",
   "id": "327d6d70",
   "metadata": {},
   "source": [
    "## Purpose\n",
    "1. Get the purchases from each webpage\n",
    "2. sum them up\n",
    "3. find the average"
   ]
  },
  {
   "cell_type": "code",
   "execution_count": 2,
   "id": "f51e00b9",
   "metadata": {},
   "outputs": [],
   "source": [
    "example_dict_1 = { \"webpage\" :\n",
    "                { \"date\": \"12-12-2023\", \n",
    "                 \"clicks\": [\"page1\", \"page2\", \"page3\", \"page133\"], \n",
    "                 \"operating_system\" : \"iPhone\", \n",
    "                 \"purchases\" : [{ \"order1\": 1234.65}, {\"order2\" : 456.65}]\n",
    "                }\n",
    "               }\n"
   ]
  },
  {
   "cell_type": "markdown",
   "id": "d64b0eec",
   "metadata": {},
   "source": [
    "### 1. Do you know what type of data structure the outermost layer is?\n",
    "- it's a dictionary, if you didn't know, you could test it by using the `type` built-in method"
   ]
  },
  {
   "cell_type": "code",
   "execution_count": 4,
   "id": "78e39f21",
   "metadata": {},
   "outputs": [
    {
     "data": {
      "text/plain": [
       "dict"
      ]
     },
     "execution_count": 4,
     "metadata": {},
     "output_type": "execute_result"
    }
   ],
   "source": [
    "type(example_dict_1)"
   ]
  },
  {
   "cell_type": "code",
   "execution_count": 6,
   "id": "c0cf3b46",
   "metadata": {},
   "outputs": [
    {
     "data": {
      "text/plain": [
       "dict_keys(['webpage'])"
      ]
     },
     "execution_count": 6,
     "metadata": {},
     "output_type": "execute_result"
    }
   ],
   "source": [
    "# how do you access elements in a dict?\n",
    "# by keyword\n",
    "example_dict_1.keys() # there's only one keyword"
   ]
  },
  {
   "cell_type": "code",
   "execution_count": 7,
   "id": "eabf7439",
   "metadata": {},
   "outputs": [
    {
     "data": {
      "text/plain": [
       "{'date': '12-12-2023',\n",
       " 'clicks': ['page1', 'page2', 'page3', 'page133'],\n",
       " 'operating_system': 'iPhone',\n",
       " 'purchases': [{'order1': 1234.65}, {'order2': 456.65}]}"
      ]
     },
     "execution_count": 7,
     "metadata": {},
     "output_type": "execute_result"
    }
   ],
   "source": [
    "example_dict_1['webpage'] # returns another innner structure, what type of structure is this inner structure?"
   ]
  },
  {
   "cell_type": "code",
   "execution_count": 9,
   "id": "de6fd1b5",
   "metadata": {},
   "outputs": [
    {
     "data": {
      "text/plain": [
       "dict"
      ]
     },
     "execution_count": 9,
     "metadata": {},
     "output_type": "execute_result"
    }
   ],
   "source": [
    "type(example_dict_1['webpage']) # the above structure is a dict (again), let's access the keys in that dict"
   ]
  },
  {
   "cell_type": "code",
   "execution_count": 10,
   "id": "941f6ee0",
   "metadata": {},
   "outputs": [
    {
     "data": {
      "text/plain": [
       "dict_keys(['date', 'clicks', 'operating_system', 'purchases'])"
      ]
     },
     "execution_count": 10,
     "metadata": {},
     "output_type": "execute_result"
    }
   ],
   "source": [
    "example_dict_1['webpage'].keys()"
   ]
  },
  {
   "cell_type": "code",
   "execution_count": 11,
   "id": "2b10a5e0",
   "metadata": {},
   "outputs": [
    {
     "data": {
      "text/plain": [
       "[{'order1': 1234.65}, {'order2': 456.65}]"
      ]
     },
     "execution_count": 11,
     "metadata": {},
     "output_type": "execute_result"
    }
   ],
   "source": [
    "# we want purchases...\n",
    "example_dict_1['webpage']['purchases']"
   ]
  },
  {
   "cell_type": "code",
   "execution_count": 12,
   "id": "a6850db7",
   "metadata": {},
   "outputs": [
    {
     "data": {
      "text/plain": [
       "list"
      ]
     },
     "execution_count": 12,
     "metadata": {},
     "output_type": "execute_result"
    }
   ],
   "source": [
    "# what type of structure is the above? you need to know on site to know which methods are available to you\n",
    "type(example_dict_1['webpage']['purchases'])"
   ]
  },
  {
   "cell_type": "code",
   "execution_count": 13,
   "id": "d183adff",
   "metadata": {},
   "outputs": [
    {
     "data": {
      "text/plain": [
       "{'order1': 1234.65}"
      ]
     },
     "execution_count": 13,
     "metadata": {},
     "output_type": "execute_result"
    }
   ],
   "source": [
    "example_dict_1['webpage']['purchases'][0] # 0-indexed, this gives the first order"
   ]
  },
  {
   "cell_type": "code",
   "execution_count": 14,
   "id": "56ee2242",
   "metadata": {},
   "outputs": [
    {
     "data": {
      "text/plain": [
       "{'order2': 456.65}"
      ]
     },
     "execution_count": 14,
     "metadata": {},
     "output_type": "execute_result"
    }
   ],
   "source": [
    "example_dict_1['webpage']['purchases'][1] # this gives the 2nd order"
   ]
  },
  {
   "cell_type": "markdown",
   "id": "463a5f11",
   "metadata": {},
   "source": [
    "### so someone on their iphone purchased 2 things on 12-12-2023 (yes, in the future)\n",
    "- do you know how to traverse a list? do you know your `control flows`?\n",
    "- [Control Flows in Python](https://docs.python.org/3/tutorial/controlflow.html)"
   ]
  },
  {
   "cell_type": "code",
   "execution_count": 15,
   "id": "53a22c33",
   "metadata": {},
   "outputs": [
    {
     "name": "stdout",
     "output_type": "stream",
     "text": [
      "{'order1': 1234.65}\n",
      "{'order2': 456.65}\n"
     ]
    }
   ],
   "source": [
    "for purchase in example_dict_1['webpage']['purchases']:\n",
    "    print(purchase)"
   ]
  },
  {
   "cell_type": "code",
   "execution_count": 16,
   "id": "a7216cc0",
   "metadata": {},
   "outputs": [],
   "source": [
    "# can you grab those two purchase amounts?\n",
    "# can you sum them?\n",
    "# can you divide by the number of purchases?"
   ]
  },
  {
   "cell_type": "code",
   "execution_count": null,
   "id": "85fca705",
   "metadata": {},
   "outputs": [],
   "source": []
  },
  {
   "cell_type": "markdown",
   "id": "83d047ce",
   "metadata": {},
   "source": [
    "# Can you do this for the 2nd Dictionary?"
   ]
  },
  {
   "cell_type": "code",
   "execution_count": 17,
   "id": "138b9e3d",
   "metadata": {},
   "outputs": [],
   "source": [
    "example_dict_2 = { \"webpage\" :\n",
    "                  { \"date\": \"12-12-2023\", \n",
    "                   \"clicks\": [\"page1\", \"page2\", \"page3\", \"page133\"], \n",
    "                   \"operating_system\" : \"Android\", \n",
    "                   \"purchases\" : [{ \"order1\": 734.65}, {\"order2\" : 496.65}]\n",
    "                  }\n",
    "                 }   "
   ]
  },
  {
   "cell_type": "code",
   "execution_count": null,
   "id": "103c3182",
   "metadata": {},
   "outputs": [],
   "source": []
  },
  {
   "cell_type": "code",
   "execution_count": null,
   "id": "39ae7df6",
   "metadata": {},
   "outputs": [],
   "source": []
  },
  {
   "cell_type": "code",
   "execution_count": null,
   "id": "9e8c3f6a",
   "metadata": {},
   "outputs": [],
   "source": []
  },
  {
   "cell_type": "code",
   "execution_count": null,
   "id": "f0739ec4",
   "metadata": {},
   "outputs": [],
   "source": []
  },
  {
   "cell_type": "code",
   "execution_count": null,
   "id": "4ab0452c",
   "metadata": {},
   "outputs": [],
   "source": []
  },
  {
   "cell_type": "code",
   "execution_count": 18,
   "id": "b4d471fb",
   "metadata": {},
   "outputs": [],
   "source": [
    "## can you combine the purchases from both example_dict's and then add and average them together?"
   ]
  },
  {
   "cell_type": "code",
   "execution_count": null,
   "id": "3ebdfcd1",
   "metadata": {},
   "outputs": [],
   "source": []
  }
 ],
 "metadata": {
  "kernelspec": {
   "display_name": "PySpark 3.10",
   "language": "python",
   "name": "pyspark3.10"
  },
  "language_info": {
   "codemirror_mode": {
    "name": "ipython",
    "version": 3
   },
   "file_extension": ".py",
   "mimetype": "text/x-python",
   "name": "python",
   "nbconvert_exporter": "python",
   "pygments_lexer": "ipython3",
   "version": "3.10.6"
  }
 },
 "nbformat": 4,
 "nbformat_minor": 5
}
